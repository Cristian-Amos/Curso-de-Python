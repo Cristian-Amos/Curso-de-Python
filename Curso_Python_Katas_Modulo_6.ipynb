{
 "cells": [
  {
   "cell_type": "markdown",
   "metadata": {},
   "source": [
    "# Modulo 6.- Introduccion a las listas\n",
    "Katas modulo 6"
   ]
  },
  {
   "cell_type": "markdown",
   "metadata": {},
   "source": [
    "# Ejercicio1: Crear y usar listas de Python\n",
    "Ejercicio: Usar listas para almacenar nombres de planetas"
   ]
  },
  {
   "cell_type": "code",
   "execution_count": null,
   "metadata": {},
   "outputs": [],
   "source": [
    "planetas = ['Mercurio', 'Venus', 'Tierra', 'Marte', 'Jupiter', 'Saturno', 'Neptuno']"
   ]
  },
  {
   "cell_type": "markdown",
   "metadata": {},
   "source": [
    "Agregar pluton a la lista y mostrar el ultimo elemento de la lista"
   ]
  },
  {
   "cell_type": "code",
   "execution_count": 74,
   "metadata": {},
   "outputs": [
    {
     "name": "stdout",
     "output_type": "stream",
     "text": [
      "Pluton es el ultimo planeta\n"
     ]
    }
   ],
   "source": [
    "planetas = ['Mercurio', 'Venus', 'Tierra', 'Marte', 'Jupiter', 'Saturno', 'Neptuno']\n",
    "planetas.append('Pluton')\n",
    "i = len(planetas)\n",
    "print(planetas[i-1], 'es el ultimo planeta')\n"
   ]
  },
  {
   "cell_type": "markdown",
   "metadata": {},
   "source": [
    "# Ejercicio 2: Trabajando con datos de una lista\n",
    "Comienza agregando el código para crear una lista con los planetas."
   ]
  },
  {
   "cell_type": "code",
   "execution_count": null,
   "metadata": {},
   "outputs": [],
   "source": [
    "planetas = ['Mercurio', 'Venus', 'Tierra', 'Marte', 'Jupiter', 'Saturno', 'Neptuno']"
   ]
  },
  {
   "cell_type": "markdown",
   "metadata": {},
   "source": [
    "Solicitamos al usuario el nombre de un planeta"
   ]
  },
  {
   "cell_type": "code",
   "execution_count": 75,
   "metadata": {},
   "outputs": [
    {
     "name": "stdout",
     "output_type": "stream",
     "text": [
      "Ingresa el nombre de un planeta. La primer letra debe ser mayuscula. Ejemplo: Tierra\n"
     ]
    },
    {
     "data": {
      "text/plain": [
       "'tierra'"
      ]
     },
     "execution_count": 75,
     "metadata": {},
     "output_type": "execute_result"
    }
   ],
   "source": [
    "planetas = ['Mercurio', 'Venus', 'Tierra', 'Marte', 'Jupiter', 'Saturno', 'Neptuno']\n",
    "print(\"Ingresa el nombre de un planeta. La primer letra debe ser mayuscula. Ejemplo: Tierra\")\n",
    "planeta = input()\n",
    "planeta"
   ]
  },
  {
   "cell_type": "markdown",
   "metadata": {},
   "source": [
    "Mostramos los planetas mas cercanos al sol que el que ingreso el usuario"
   ]
  },
  {
   "cell_type": "code",
   "execution_count": null,
   "metadata": {},
   "outputs": [],
   "source": [
    "planetas = ['Mercurio', 'Venus', 'Tierra', 'Marte', 'Jupiter', 'Saturno', 'Neptuno']\n",
    "print(\"Ingresa el nombre de un planeta. La primer letra debe ser mayuscula. Ejemplo: Tierra\")\n",
    "planeta = input()\n",
    "try:\n",
    "    posicion = planetas.index(planeta)\n",
    "except:\n",
    "    posicion= -2\n",
    "if posicion >= 1:\n",
    "    print(\"usted ingreso el planeta: \"+ planetas[posicion])\n",
    "    print('hay ' + str(posicion) + ' planetas mas cercanos al sol')\n",
    "elif posicion == 0:\n",
    "        print(\"usted ingreso el planeta: \"+ planetas[posicion])\n",
    "        print(\"El planeta ingresado es el mas cercano al sol. No hay planetas mas cercanos\")\n",
    "else:\n",
    "    print(\"El planeta ingresado no existe en el sistema solar o no es un planeta\")"
   ]
  },
  {
   "cell_type": "markdown",
   "metadata": {},
   "source": [
    "Mostramos los planetas mas alejados al sol que el que ingreso el usuario"
   ]
  },
  {
   "cell_type": "code",
   "execution_count": 73,
   "metadata": {},
   "outputs": [
    {
     "name": "stdout",
     "output_type": "stream",
     "text": [
      "Ingresa el nombre de un planeta. La primer letra debe ser mayuscula. Ejemplo: Tierra\n",
      "usted ingreso el planeta: Mercurio\n",
      "El planeta ingresado es el mas cercano al sol. No hay planetas mas cercanos\n",
      "hay 6 planetas mas alejados del sol\n"
     ]
    }
   ],
   "source": [
    "planetas = ['Mercurio', 'Venus', 'Tierra', 'Marte', 'Jupiter', 'Saturno', 'Neptuno']\n",
    "print(\"Ingresa el nombre de un planeta. La primer letra debe ser mayuscula. Ejemplo: Tierra\")\n",
    "planeta = input()\n",
    "try:\n",
    "    posicion = planetas.index(planeta)\n",
    "except:\n",
    "    posicion= -2\n",
    "if posicion >= 1:\n",
    "    print(\"usted ingreso el planeta: \"+ planetas[posicion])\n",
    "    print('hay ' + str(posicion) + ' planetas mas cercanos al sol')\n",
    "    posicion = abs(posicion- len(planetas) -1)\n",
    "    print('hay ' + str(posicion) + ' planetas mas alejados del sol')\n",
    "elif posicion == 0:\n",
    "        print(\"usted ingreso el planeta: \"+ planetas[posicion])\n",
    "        print(\"El planeta ingresado es el mas cercano al sol. No hay planetas mas cercanos\")\n",
    "        posicion = (len(planetas) -1)\n",
    "        print('hay ' + str(posicion) + ' planetas mas alejados del sol')\n",
    "else:\n",
    "    print(\"El planeta ingresado no existe en el sistema solar o no es un planeta\")"
   ]
  }
 ],
 "metadata": {
  "interpreter": {
   "hash": "f981e719fb78a10c1c270bf13e05599c2225ab1521520f49fdfcecc9adda1459"
  },
  "kernelspec": {
   "display_name": "Python 3.9.10 64-bit (windows store)",
   "language": "python",
   "name": "python3"
  },
  "language_info": {
   "codemirror_mode": {
    "name": "ipython",
    "version": 3
   },
   "file_extension": ".py",
   "mimetype": "text/x-python",
   "name": "python",
   "nbconvert_exporter": "python",
   "pygments_lexer": "ipython3",
   "version": "3.9.10"
  },
  "orig_nbformat": 4
 },
 "nbformat": 4,
 "nbformat_minor": 2
}
