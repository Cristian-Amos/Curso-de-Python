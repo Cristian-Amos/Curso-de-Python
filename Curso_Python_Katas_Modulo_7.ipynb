{
 "cells": [
  {
   "cell_type": "markdown",
   "metadata": {},
   "source": [
    "# Modulo 7 Estructuras de control\n",
    "Kata modulo 7"
   ]
  },
  {
   "cell_type": "markdown",
   "metadata": {},
   "source": [
    "# Ejercicio 1: Uso de ciclos while en Python\n",
    "Comienza agregando dos variables, una para la entrada del usuario, con el nombre new_planet, y otra variable para la lista de planetas, denominada planets."
   ]
  },
  {
   "cell_type": "code",
   "execution_count": 1,
   "metadata": {},
   "outputs": [],
   "source": [
    "Planeta_Nuevo = \"\"\n",
    "planetas= []"
   ]
  },
  {
   "cell_type": "markdown",
   "metadata": {},
   "source": [
    "Comenzando con las variables que acabas de crear, crearás un ciclo while. El ciclo while se ejecutará mientras el new_planet no sea igual a la palabra 'done'.\n",
    "\n",
    "Dentro del ciclo, comprobarás si la variable new_planet contiene un valor, que debería ser el nombre de un planeta. Esta es una forma rápida de ver si el usuario ha introducido un valor. Si lo han hecho, tu código agregará (append) ese valor a la variable planets.\n",
    "\n",
    "Finalmente, usarás input para solicitar al usuario que ingrese un nuevo nombre de planeta o que escriba done si ha terminado de ingresar nombres de planeta. Almacenará el valor de input en la variable new_planet."
   ]
  },
  {
   "cell_type": "code",
   "execution_count": 3,
   "metadata": {},
   "outputs": [
    {
     "data": {
      "text/plain": [
       "['asdf', 'dfsg']"
      ]
     },
     "execution_count": 3,
     "metadata": {},
     "output_type": "execute_result"
    }
   ],
   "source": [
    "Planeta_Nuevo = \"\"\n",
    "planetas= []\n",
    "while Planeta_Nuevo.lower() != 'listo':\n",
    "    if Planeta_Nuevo:\n",
    "        planetas.append(Planeta_Nuevo)\n",
    "    Planeta_Nuevo = input(\"ingresa un nuevo planeta o escribe 'listo' para finalizar.\")\n",
    "\n",
    "planetas"
   ]
  },
  {
   "cell_type": "markdown",
   "metadata": {},
   "source": [
    "# Ejercicio 2\n",
    "Mostrar la lista de planetas ingresados en el ejercicio 1 haciendo uso de un ciclo for"
   ]
  },
  {
   "cell_type": "code",
   "execution_count": 6,
   "metadata": {},
   "outputs": [
    {
     "name": "stdout",
     "output_type": "stream",
     "text": [
      "Marte\n",
      "Tierra\n",
      "Jupiter\n",
      "Venus\n"
     ]
    }
   ],
   "source": [
    "Planeta_Nuevo = \"\"\n",
    "planetas= []\n",
    "while Planeta_Nuevo.lower() != 'listo':\n",
    "    if Planeta_Nuevo:\n",
    "        planetas.append(Planeta_Nuevo)\n",
    "    Planeta_Nuevo = input(\"ingresa un nuevo planeta o escribe 'listo' para finalizar.\")\n",
    "for planeta in planetas:\n",
    "    print(planeta)"
   ]
  }
 ],
 "metadata": {
  "interpreter": {
   "hash": "f981e719fb78a10c1c270bf13e05599c2225ab1521520f49fdfcecc9adda1459"
  },
  "kernelspec": {
   "display_name": "Python 3.9.10 64-bit (windows store)",
   "language": "python",
   "name": "python3"
  },
  "language_info": {
   "codemirror_mode": {
    "name": "ipython",
    "version": 3
   },
   "file_extension": ".py",
   "mimetype": "text/x-python",
   "name": "python",
   "nbconvert_exporter": "python",
   "pygments_lexer": "ipython3",
   "version": "3.9.10"
  },
  "orig_nbformat": 4
 },
 "nbformat": 4,
 "nbformat_minor": 2
}
