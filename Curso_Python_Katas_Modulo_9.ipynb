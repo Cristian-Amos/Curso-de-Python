{
 "cells": [
  {
   "cell_type": "markdown",
   "metadata": {},
   "source": [
    "# Modulo 9 Curso python. Funciones\n",
    "Ejercicio 1: Trabajar con argumentos en funciones"
   ]
  },
  {
   "cell_type": "markdown",
   "metadata": {},
   "source": [
    "Comienza por crear una función que necesite tres lecturas de combustible y devuelva un informe:"
   ]
  },
  {
   "cell_type": "code",
   "execution_count": 12,
   "metadata": {},
   "outputs": [],
   "source": [
    "# Función para leer 3 tanques de combustible y muestre el promedio\n",
    "import random\n",
    "def reporte(CombustibleInterno, CombustibleExterno, CombustibleHidrogeno):\n",
    "    promedio = (CombustibleInterno + CombustibleExterno + CombustibleHidrogeno) / 3\n",
    "    return f\"\"\"Reporte de combustible:\n",
    "    Promedio Total: {promedio}%\n",
    "    Combustible interno: {CombustibleInterno}%\n",
    "    Combustible externo: {CombustibleExterno}%\n",
    "    Combustible de Hidrogeno: {CombustibleHidrogeno}% \n",
    "    \"\"\"\n"
   ]
  },
  {
   "cell_type": "markdown",
   "metadata": {},
   "source": [
    "Ahora que hemos definido la función de informes, vamos a comprobarlo. Para esta misión, los tanques no están llenos. Genera la impresion del reporte"
   ]
  },
  {
   "cell_type": "code",
   "execution_count": 32,
   "metadata": {},
   "outputs": [
    {
     "name": "stdout",
     "output_type": "stream",
     "text": [
      "Reporte de combustible:\n",
      "    Promedio Total: 10.666666666666666%\n",
      "    Combustible interno: 9%\n",
      "    Combustible externo: 13%\n",
      "    Combustible de Hidrogeno: 10% \n",
      "    \n"
     ]
    }
   ],
   "source": [
    "import random\n",
    "# Función para leer 3 tanques de combustible y muestre el promedio\n",
    "def reporte(CombustibleInterno, CombustibleExterno, CombustibleHidrogeno):\n",
    "    promedio = (CombustibleInterno + CombustibleExterno + CombustibleHidrogeno) / 3\n",
    "    return f\"\"\"Reporte de combustible:\n",
    "    Promedio Total: {promedio}%\n",
    "    Combustible interno: {CombustibleInterno}%\n",
    "    Combustible externo: {CombustibleExterno}%\n",
    "    Combustible de Hidrogeno: {CombustibleHidrogeno}% \n",
    "    \"\"\"\n",
    "print(reporte(random.randint(1, 100), random.randint(1, 100), random.randint(1, 100)))"
   ]
  },
  {
   "cell_type": "markdown",
   "metadata": {},
   "source": [
    "En lugar de simplemente crear el informe, la función también está calculando el promedio. Mejora la legibilidad extrayendo el cálculo promedio de la función en una nueva función para que el promedio se pueda hacer de forma independiente:"
   ]
  },
  {
   "cell_type": "code",
   "execution_count": 37,
   "metadata": {},
   "outputs": [
    {
     "name": "stdout",
     "output_type": "stream",
     "text": [
      "Reporte de combustible:\n",
      "    Promedio Total: 43.0%\n",
      "    Combustible interno: 55%\n",
      "    Combustible externo: 24%\n",
      "    Combustible de Hidrogeno: 50% \n",
      "    \n"
     ]
    }
   ],
   "source": [
    "import random\n",
    "# Función para leer 3 tanques de combustible\n",
    "def reporte(CombustibleInterno, CombustibleExterno, CombustibleHidrogeno):\n",
    "    return f\"\"\"Reporte de combustible:\n",
    "    Promedio Total: {promedio([CombustibleInterno, CombustibleExterno, CombustibleHidrogeno])}%\n",
    "    Combustible interno: {CombustibleInterno}%\n",
    "    Combustible externo: {CombustibleExterno}%\n",
    "    Combustible de Hidrogeno: {CombustibleHidrogeno}% \n",
    "    \"\"\"\n",
    "# Función promedio \n",
    "def promedio(valores):\n",
    "    total = sum(valores)\n",
    "    Num_Valores = len(valores)\n",
    "    return total / Num_Valores\n",
    "\n",
    "\n",
    "print(reporte(random.randint(1, 100), random.randint(1, 100), random.randint(1, 100)))\n",
    "\n"
   ]
  },
  {
   "cell_type": "markdown",
   "metadata": {},
   "source": [
    "Ahora actualiza la función de informes para llamar a la nueva función del promedio:"
   ]
  },
  {
   "cell_type": "code",
   "execution_count": 43,
   "metadata": {},
   "outputs": [
    {
     "name": "stdout",
     "output_type": "stream",
     "text": [
      "Reporte de combustible:\n",
      "    Promedio Total: 54.333333333333336%\n",
      "    Combustible interno: 74%\n",
      "    Combustible externo: 64%\n",
      "    Combustible de Hidrogeno: 25% \n",
      "    \n"
     ]
    }
   ],
   "source": [
    "import random\n",
    "# Función para leer 3 tanques de combustible\n",
    "def reporte(CombustibleInterno, CombustibleExterno, CombustibleHidrogeno):\n",
    "    return f\"\"\"Reporte de combustible:\n",
    "    Promedio Total: {promedio([CombustibleInterno, CombustibleExterno, CombustibleHidrogeno])}%\n",
    "    Combustible interno: {CombustibleInterno}%\n",
    "    Combustible externo: {CombustibleExterno}%\n",
    "    Combustible de Hidrogeno: {CombustibleHidrogeno}% \n",
    "    \"\"\"\n",
    "# Función promedio \n",
    "def promedio(valores):\n",
    "    total = sum(valores)\n",
    "    Num_Valores = len(valores)\n",
    "    return total / Num_Valores\n",
    "\n",
    "\n",
    "print(reporte(random.randint(1, 100), random.randint(1, 100), random.randint(1, 100)))"
   ]
  },
  {
   "cell_type": "markdown",
   "metadata": {},
   "source": [
    "# Ejercicio 2: Trabajo con argumentos de palabra clave en funciones\n",
    "En este ejercicio, construirás un informe de cohete que requiere varias piezas de información, como el tiempo hasta el destino, el combustible a la izquierda y el nombre del destino. Comienza por crear una función que creará un informe preciso de la misión:"
   ]
  },
  {
   "cell_type": "code",
   "execution_count": null,
   "metadata": {},
   "outputs": [],
   "source": [
    "# Función con un informe preciso de la misión. Considera hora de prelanzamiento, tiempo de vuelo, destino, tanque externo y tanque interno\n",
    "def informe(prelanzamiento, TiempoVuelo, Destino, TanqueExterno, TanqueInterno)\n",
    "return f\"\"\"\n",
    "\n",
    "\"\"\""
   ]
  }
 ],
 "metadata": {
  "interpreter": {
   "hash": "f981e719fb78a10c1c270bf13e05599c2225ab1521520f49fdfcecc9adda1459"
  },
  "kernelspec": {
   "display_name": "Python 3.9.10 64-bit (windows store)",
   "language": "python",
   "name": "python3"
  },
  "language_info": {
   "codemirror_mode": {
    "name": "ipython",
    "version": 3
   },
   "file_extension": ".py",
   "mimetype": "text/x-python",
   "name": "python",
   "nbconvert_exporter": "python",
   "pygments_lexer": "ipython3",
   "version": "3.9.10"
  },
  "orig_nbformat": 4
 },
 "nbformat": 4,
 "nbformat_minor": 2
}
