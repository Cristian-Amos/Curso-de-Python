{
 "cells": [
  {
   "cell_type": "markdown",
   "metadata": {},
   "source": [
    "# Curso python Katas modulo 2"
   ]
  },
  {
   "cell_type": "markdown",
   "metadata": {},
   "source": [
    "1.- Programa que imprima una advertencia si un asteroide se acerca a la Tierra demasiado rápido. La velocidad del asteroide varía dependiendo de lo cerca que esté del sol, y cualquier velocidad superior a 25 kilómetros por segundo (km/s) merece una advertencia."
   ]
  },
  {
   "cell_type": "code",
   "execution_count": 18,
   "metadata": {},
   "outputs": [
    {
     "name": "stdout",
     "output_type": "stream",
     "text": [
      "Los sensores de la nave no detectan ningun asteroide peligroso\n"
     ]
    }
   ],
   "source": [
    "import random\n",
    "asteroide= random.randint(1,100)\n",
    "if asteroide > 25:\n",
    "    print('¡PELIGRO! un asteroide muy peligroso esta en camino, los sensores detectan que el asteroide viaja a ' + str(asteroide) + ' Km/s')\n",
    "else:\n",
    "    print('Los sensores de la nave no detectan ningun asteroide peligroso')\n"
   ]
  },
  {
   "cell_type": "markdown",
   "metadata": {},
   "source": [
    "2.- programa que dice si un asteroide producira un rayo de luz que se podra ver en la tierra a una velocidad mayor o igual a 20 km/s"
   ]
  },
  {
   "cell_type": "code",
   "execution_count": 111,
   "metadata": {},
   "outputs": [
    {
     "name": "stdout",
     "output_type": "stream",
     "text": [
      "Un asteroide viaja a 23 Km/s. Llegara a la tierra y se desintegrara en la atmosfera creando una estela brillante, ¡Habra un buen espectaculo!\n"
     ]
    }
   ],
   "source": [
    "import random\n",
    "asteroide= random.randint(1,100)\n",
    "if asteroide > 25:\n",
    "    print('¡PELIGRO! un asteroide muy peligroso esta en camino, los sensores detectan que el asteroide viaja a ' + str(asteroide) + ' Km/s')\n",
    "elif asteroide > 20 and asteroide <25:\n",
    "    print(\"Un asteroide viaja a \" + str(asteroide) + ' Km/s. Llegara a la tierra y se desintegrara en la atmosfera creando una estela brillante, ¡Habra un buen espectaculo!')\n",
    "else:\n",
    "    print('Los sensores de la nave no detectan ningun asteroide peligroso')\n"
   ]
  },
  {
   "cell_type": "markdown",
   "metadata": {},
   "source": [
    "3.- Programa que emita la advertencia o información correcta a la gente de la Tierra, según la velocidad y el tamaño de un asteroide."
   ]
  },
  {
   "cell_type": "code",
   "execution_count": 81,
   "metadata": {},
   "outputs": [
    {
     "name": "stdout",
     "output_type": "stream",
     "text": [
      "Los sensores de la nave no detectan ningun asteroide peligroso\n"
     ]
    }
   ],
   "source": [
    "import random\n",
    "asteroide= random.randint(1,100)\n",
    "volumen= random.randint(1,1000)\n",
    "if asteroide > 25 and volumen >25:\n",
    "    print('¡PELIGRO! un asteroide muy peligroso esta en camino, los sensores detectan que el asteroide viaja a ' + str(asteroide) + ' Km/s')\n",
    "    print('El asteroide tiene un volumen de ' + str(volumen) + ' m por lo que causara un gran daño al planeta')\n",
    "elif asteroide > 25 and volumen >20 and volumen<25:\n",
    "    print (\"Un asteroide de \" + str(volumen) + ' m llegara a la tierra y se desintegrara en la atmosfera creando una estela brillante, ¡Habra un buen espectaculo!')\n",
    "else:\n",
    "    print('Los sensores de la nave no detectan ningun asteroide peligroso')"
   ]
  }
 ],
 "metadata": {
  "interpreter": {
   "hash": "f981e719fb78a10c1c270bf13e05599c2225ab1521520f49fdfcecc9adda1459"
  },
  "kernelspec": {
   "display_name": "Python 3.9.10 64-bit (windows store)",
   "language": "python",
   "name": "python3"
  },
  "language_info": {
   "codemirror_mode": {
    "name": "ipython",
    "version": 3
   },
   "file_extension": ".py",
   "mimetype": "text/x-python",
   "name": "python",
   "nbconvert_exporter": "python",
   "pygments_lexer": "ipython3",
   "version": "3.9.10"
  },
  "orig_nbformat": 4
 },
 "nbformat": 4,
 "nbformat_minor": 2
}
