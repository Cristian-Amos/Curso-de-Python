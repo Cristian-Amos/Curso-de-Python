{
 "cells": [
  {
   "cell_type": "markdown",
   "metadata": {},
   "source": [
    "# Curso python modulo 5 Operadores matematicos\n",
    "# Ejercicio1 - Utilizar operadores aritméticos\n",
    "Katas modulo 5"
   ]
  },
  {
   "cell_type": "markdown",
   "metadata": {},
   "source": [
    "crear un programa que pueda calcular la distancia entre dos planetas. Comenzaremos usando dos distancias de planetas: Tierra (149.597.870 km) y Júpiter (778.547.200 km)."
   ]
  },
  {
   "cell_type": "code",
   "execution_count": 1,
   "metadata": {},
   "outputs": [],
   "source": [
    "DTierra= 149597187\n",
    "DJupiter= 778547200"
   ]
  },
  {
   "cell_type": "markdown",
   "metadata": {},
   "source": [
    "Con los valores obtenidos, es el momento de añadir el código para realizar la operación. Restarás el primer planeta del segundo para determinar la distancia en kilómetros. A continuación, puedes convertir la distancia del kilómetro en millas multiplicándola por 0.621."
   ]
  },
  {
   "cell_type": "code",
   "execution_count": 12,
   "metadata": {},
   "outputs": [
    {
     "name": "stdout",
     "output_type": "stream",
     "text": [
      "la distancia en Kilometros es de :628949330 KM\n",
      "la distancia en Millas es de :390577533.93 Mi\n"
     ]
    }
   ],
   "source": [
    "DTierra= 149597870\n",
    "DJupiter= 778547200\n",
    "DistanciaKM = DJupiter - DTierra\n",
    "DistanciaMI = (DJupiter - DTierra) * 0.621\n",
    "print (\"la distancia en Kilometros es de :\" + str(DistanciaKM) + \" KM\")\n",
    "print (\"la distancia en Millas es de :\" + str(DistanciaMI) + \" Mi\")"
   ]
  },
  {
   "cell_type": "markdown",
   "metadata": {},
   "source": [
    "# Ejercicio 2: Convierte cadenas en numeros y usa valores absolutos"
   ]
  },
  {
   "cell_type": "markdown",
   "metadata": {},
   "source": [
    "Usando input, agrega el código para leer la distancia del sol para cada planeta, considerando 2 planetas."
   ]
  },
  {
   "cell_type": "code",
   "execution_count": 11,
   "metadata": {},
   "outputs": [
    {
     "name": "stdout",
     "output_type": "stream",
     "text": [
      "ingresa la distancia del planeta al sol\n",
      "ingresa la distancia de otro planeta al sol\n"
     ]
    }
   ],
   "source": [
    "print(\"ingresa la distancia del planeta al sol\")\n",
    "planeta1= input()\n",
    "print(\"ingresa la distancia de otro planeta al sol\")\n",
    "planeta2 = input()"
   ]
  },
  {
   "cell_type": "markdown",
   "metadata": {},
   "source": [
    "Convertir las entradas a numeros (int)"
   ]
  },
  {
   "cell_type": "code",
   "execution_count": 12,
   "metadata": {},
   "outputs": [
    {
     "name": "stdout",
     "output_type": "stream",
     "text": [
      "ingresa la distancia del planeta al sol\n",
      "ingresa la distancia de otro planeta al sol\n"
     ]
    }
   ],
   "source": [
    "print(\"ingresa la distancia del planeta al sol\")\n",
    "planeta1= input()\n",
    "print(\"ingresa la distancia de otro planeta al sol\")\n",
    "planeta2 = input()\n",
    "planeta1 = int(planeta1)\n",
    "planeta2 = int(planeta2)"
   ]
  },
  {
   "cell_type": "markdown",
   "metadata": {},
   "source": [
    "Realizar el cálculo y convertir a valor absoluto"
   ]
  },
  {
   "cell_type": "code",
   "execution_count": 15,
   "metadata": {},
   "outputs": [
    {
     "name": "stdout",
     "output_type": "stream",
     "text": [
      "ingresa la distancia del planeta al sol\n",
      "ingresa la distancia de otro planeta al sol\n",
      "la distancia entre los planetas es de: 1 Km\n",
      "la distancia entre los planetas es de: 0.621 Mi\n"
     ]
    }
   ],
   "source": [
    "print(\"ingresa la distancia del planeta al sol\")\n",
    "planeta1= input()\n",
    "print(\"ingresa la distancia de otro planeta al sol\")\n",
    "planeta2 = input()\n",
    "planeta1 = int(planeta1)\n",
    "planeta2 = int(planeta2)\n",
    "DistanciaKm = abs(planeta1 - planeta2)\n",
    "DistanciaMI = DistanciaKm * 0.621\n",
    "print(\"la distancia entre los planetas es de: \" + str(DistanciaKm) + \" Km\")\n",
    "print(\"la distancia entre los planetas es de: \" + str(DistanciaMI) + \" Mi\")"
   ]
  }
 ],
 "metadata": {
  "interpreter": {
   "hash": "f981e719fb78a10c1c270bf13e05599c2225ab1521520f49fdfcecc9adda1459"
  },
  "kernelspec": {
   "display_name": "Python 3.9.10 64-bit (windows store)",
   "language": "python",
   "name": "python3"
  },
  "language_info": {
   "codemirror_mode": {
    "name": "ipython",
    "version": 3
   },
   "file_extension": ".py",
   "mimetype": "text/x-python",
   "name": "python",
   "nbconvert_exporter": "python",
   "pygments_lexer": "ipython3",
   "version": "3.9.10"
  },
  "orig_nbformat": 4
 },
 "nbformat": 4,
 "nbformat_minor": 2
}
