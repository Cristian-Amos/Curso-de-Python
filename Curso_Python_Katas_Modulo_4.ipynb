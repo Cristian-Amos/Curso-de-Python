{
 "cells": [
  {
   "cell_type": "markdown",
   "metadata": {},
   "source": [
    "# Curso python Modulo 4 Cadenas\n",
    "Katas Modulo 4"
   ]
  },
  {
   "cell_type": "markdown",
   "metadata": {},
   "source": [
    "# Texto con el que se trabajara\n",
    "text = \"\"\"Interesting facts about the Moon. The Moon is Earth's only satellite. There are several interesting facts about the Moon and how it affects life here on Earth. \n",
    "On average, the Moon moves 4cm away from the Earth every year. This yearly drift is not significant enough to cause immediate effects on Earth. The highest daylight temperature of the Moon is 127 C.\"\"\""
   ]
  },
  {
   "cell_type": "markdown",
   "metadata": {},
   "source": [
    "1.1 .- Primero, divide el texto en cada oración para trabajar con su contenido:"
   ]
  },
  {
   "cell_type": "code",
   "execution_count": 9,
   "metadata": {},
   "outputs": [
    {
     "data": {
      "text/plain": [
       "['Interesting facts about the Moon',\n",
       " \"The Moon is Earth's only satellite\",\n",
       " 'There are several interesting facts about the Moon and how it affects life here on Earth',\n",
       " 'On average, the Moon moves 4cm away from the Earth every year',\n",
       " 'This yearly drift is not significant enough to cause immediate effects on Earth',\n",
       " 'The highest daylight temperature of the Moon is 127 C.']"
      ]
     },
     "execution_count": 9,
     "metadata": {},
     "output_type": "execute_result"
    }
   ],
   "source": [
    "texto = \"\"\"Interesting facts about the Moon. The Moon is Earth's only satellite. There are several interesting facts about the Moon and how it affects life here on Earth. On average, the Moon moves 4cm away from the Earth every year. This yearly drift is not significant enough to cause immediate effects on Earth. The highest daylight temperature of the Moon is 127 C.\"\"\"\n",
    "TextoDividido = texto.split(\". \")\n",
    "TextoDividido"
   ]
  },
  {
   "cell_type": "markdown",
   "metadata": {},
   "source": [
    "definir palabras clave para determinar si la oracion tiene un hecho\n",
    "[average, temperature y distance]"
   ]
  },
  {
   "cell_type": "code",
   "execution_count": 49,
   "metadata": {},
   "outputs": [
    {
     "data": {
      "text/plain": [
       "['Interesting facts about the Moon',\n",
       " \"The Moon is Earth's only satellite\",\n",
       " 'There are several interesting facts about the Moon and how it affects life here on Earth',\n",
       " 'On average, the Moon moves 4cm away from the Earth every year',\n",
       " 'This yearly drift is not significant enough to cause immediate effects on Earth',\n",
       " 'The highest daylight temperature of the Moon is 127 C.']"
      ]
     },
     "execution_count": 49,
     "metadata": {},
     "output_type": "execute_result"
    }
   ],
   "source": [
    "texto = \"\"\"Interesting facts about the Moon. The Moon is Earth's only satellite. There are several interesting facts about the Moon and how it affects life here on Earth. On average, the Moon moves 4cm away from the Earth every year. This yearly drift is not significant enough to cause immediate effects on Earth. The highest daylight temperature of the Moon is 127 C.\"\"\"\n",
    "TextoDividido = texto.split(\". \")\n",
    "pclaves = [\"average\", \"temperature\", \"distance\"]\n",
    "TextoDividido"
   ]
  },
  {
   "cell_type": "markdown",
   "metadata": {},
   "source": [
    "Crear un bucle para imprimir solo datos sobre la Luna que estén relacionados con las palabras clave definidas anteriormente:"
   ]
  },
  {
   "cell_type": "code",
   "execution_count": 68,
   "metadata": {},
   "outputs": [
    {
     "name": "stdout",
     "output_type": "stream",
     "text": [
      "On average, the Moon moves 4cm away from the Earth every year\n",
      "The highest daylight temperature of the Moon is 127 C.\n"
     ]
    }
   ],
   "source": [
    "text = \"\"\"Interesting facts about the Moon. The Moon is Earth's only satellite. There are several interesting facts about the Moon and how it affects life here on Earth. \n",
    "On average, the Moon moves 4cm away from the Earth every year. This yearly drift is not significant enough to cause immediate effects on Earth. The highest daylight temperature of the Moon is 127 C.\"\"\"\n",
    "\n",
    "TextoDividido = texto.split(\". \")\n",
    "pclave = [\"average\", \"temperature\", \"distance\"]\n",
    "for frase in TextoDividido:     #para cada frase de TextoDividido\n",
    "    for clave in pclave:        #buscar cada una de las claves en pclave\n",
    "        if clave in frase:      #si la clave esta en la frase de TextoDividido\n",
    "            print(frase)        #Mostrar la frase\n",
    "            break"
   ]
  },
  {
   "cell_type": "markdown",
   "metadata": {},
   "source": [
    "Actualiza el bucle(ciclo) para cambiar C a Celsius:"
   ]
  },
  {
   "cell_type": "code",
   "execution_count": 78,
   "metadata": {},
   "outputs": [
    {
     "name": "stdout",
     "output_type": "stream",
     "text": [
      "On average, the Moon moves 4cm away from the Earth every year\n",
      "The highest daylight temperature of the Moon is 127 Celsius.\n"
     ]
    }
   ],
   "source": [
    "text = \"\"\"Interesting facts about the Moon. The Moon is Earth's only satellite. There are several interesting facts about the Moon and how it affects life here on Earth. \n",
    "On average, the Moon moves 4cm away from the Earth every year. This yearly drift is not significant enough to cause immediate effects on Earth. The highest daylight temperature of the Moon is 127 C.\"\"\"\n",
    "\n",
    "TextoDividido = texto.split(\". \")\n",
    "pclave = [\"average\", \"temperature\", \"distance\"]\n",
    "grados= \" C\"\n",
    "for frase in TextoDividido:     \n",
    "    for clave in pclave:        \n",
    "        if clave in frase:      \n",
    "           \n",
    "            if grados in frase:\n",
    "                print(frase.replace(\" C\", \" Celsius\"))\n",
    "            else:\n",
    "                print(frase)       \n",
    "            break"
   ]
  },
  {
   "cell_type": "markdown",
   "metadata": {},
   "source": [
    "# Ejercicio 2: Formateando Cadenas\n"
   ]
  },
  {
   "cell_type": "markdown",
   "metadata": {},
   "source": [
    "crea un título para el texto. Debido a que este texto trata sobre la gravedad en la Tierra y la Luna, úsalo para crear un título significativo. Utiliza las variables en lugar de escribir."
   ]
  },
  {
   "cell_type": "code",
   "execution_count": 3,
   "metadata": {},
   "outputs": [
    {
     "data": {
      "text/plain": [
       "'Datos sobre la gravedad: Luna'"
      ]
     },
     "execution_count": 3,
     "metadata": {},
     "output_type": "execute_result"
    }
   ],
   "source": [
    "nombre = \"Luna\"\n",
    "gravedad = 0.00162 # En Km\n",
    "planeta = \"Tierra\"\n",
    "\n",
    "titulo= f'Datos sobre la gravedad: {nombre}'\n",
    "titulo\n"
   ]
  },
  {
   "cell_type": "markdown",
   "metadata": {},
   "source": [
    "Crea una plantilla de cadena multilínea para contener el resto de la información. En lugar de usar kilómetros, debes convertir la distancia a metros multiplicando por 1,000."
   ]
  },
  {
   "cell_type": "code",
   "execution_count": 44,
   "metadata": {},
   "outputs": [],
   "source": [
    "nombre = \"Luna\"\n",
    "gravedad = 0.00162 # En Km\n",
    "planeta = \"Tierra\"\n",
    "gravedadM = gravedad * 1000\n",
    "titulo= f'Datos sobre la gravedad: {nombre} ' \n",
    "descripcion =f\"{'-'*80}\\n Nombre del planeta: {planeta}\\n Gravedad en {nombre}: {gravedadM} m/s2\"\n",
    "\n"
   ]
  },
  {
   "cell_type": "markdown",
   "metadata": {},
   "source": [
    "Unimos el titulo y la plantilla para ver que funcionan correctamente"
   ]
  },
  {
   "cell_type": "code",
   "execution_count": 49,
   "metadata": {},
   "outputs": [
    {
     "name": "stdout",
     "output_type": "stream",
     "text": [
      "Datos sobre la gravedad: Luna \n",
      "--------------------------------------------------------------------------------\n",
      " Nombre del planeta: Tierra\n",
      " Gravedad en Luna: 1.62 m/s2\n"
     ]
    }
   ],
   "source": [
    "nombre = \"Luna\"\n",
    "gravedad = 0.00162 # En Km\n",
    "planeta = \"Tierra\"\n",
    "gravedadM = round(gravedad * 1000,3)\n",
    "\n",
    "titulo= f'Datos sobre la gravedad: {nombre} ' \n",
    "descripcion =f\"{'-'*80}\\n Nombre del planeta: {planeta}\\n Gravedad en {nombre}: {gravedadM} m/s2\"\n",
    "print(f\"{titulo}\\n{descripcion}\")\n"
   ]
  },
  {
   "cell_type": "markdown",
   "metadata": {},
   "source": [
    "Ahora usa información de una luna diferente para ver si la plantilla todavía funciona.\n",
    "\n",
    "Datos muestra:\n",
    "\n",
    "planeta = 'Marte '\n",
    "gravedad  = 0.00143\n",
    "nombre = 'Ganímedes'"
   ]
  },
  {
   "cell_type": "code",
   "execution_count": 56,
   "metadata": {},
   "outputs": [
    {
     "name": "stdout",
     "output_type": "stream",
     "text": [
      "Datos sobre la gravedad: Marte \n",
      "--------------------------------------------------------------------------------\n",
      " Nombre del planeta: Ganimedes\n",
      " Gravedad en Marte: 1.43 m/s2\n"
     ]
    }
   ],
   "source": [
    "nombre = \"Marte\"\n",
    "gravedad = 0.00143 # En Km\n",
    "planeta = \"Ganimedes\"\n",
    "gravedadM = round(gravedad * 1000,3)\n",
    "\n",
    "titulo= f'Datos sobre la gravedad: {nombre} ' \n",
    "descripcion =f\"{'-'*80}\\n Nombre del planeta: {planeta}\\n Gravedad en {nombre}: {gravedadM} m/s2\"\n",
    "print(f\"{titulo}\\n{descripcion}\")\n"
   ]
  },
  {
   "cell_type": "markdown",
   "metadata": {},
   "source": [
    "Plantilla ajustada para usarse con .format()"
   ]
  },
  {
   "cell_type": "code",
   "execution_count": 57,
   "metadata": {},
   "outputs": [
    {
     "name": "stdout",
     "output_type": "stream",
     "text": [
      "Datos sobre la gravedad: Marte\n",
      " --------------------------------------------------------------------------------\n",
      " Nombre del planeta: Ganimedes\n",
      " Gravedad en Marte: 1.43 m/s2\n"
     ]
    }
   ],
   "source": [
    "nombre = \"Marte\"\n",
    "gravedad = 0.00143 # En Km\n",
    "planeta = \"Ganimedes\"\n",
    "gravedadM = round(gravedad * 1000,3)\n",
    "linea= '-' * 80\n",
    "\n",
    "datos =\"Datos sobre la gravedad: {nombre}\\n {linea}\\n Nombre del planeta: {planeta}\\n Gravedad en {nombre}: {gravedadM} m/s2\"\n",
    "print(datos.format(nombre=nombre, linea=linea, planeta=planeta, gravedadM=gravedadM))\n"
   ]
  }
 ],
 "metadata": {
  "interpreter": {
   "hash": "f981e719fb78a10c1c270bf13e05599c2225ab1521520f49fdfcecc9adda1459"
  },
  "kernelspec": {
   "display_name": "Python 3.9.10 64-bit (windows store)",
   "language": "python",
   "name": "python3"
  },
  "language_info": {
   "codemirror_mode": {
    "name": "ipython",
    "version": 3
   },
   "file_extension": ".py",
   "mimetype": "text/x-python",
   "name": "python",
   "nbconvert_exporter": "python",
   "pygments_lexer": "ipython3",
   "version": "3.9.10"
  },
  "orig_nbformat": 4
 },
 "nbformat": 4,
 "nbformat_minor": 2
}
